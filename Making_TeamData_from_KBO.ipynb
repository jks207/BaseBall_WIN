{
 "cells": [
  {
   "cell_type": "markdown",
   "metadata": {},
   "source": [
    "# KBO에서 가져온 데이터 가공"
   ]
  },
  {
   "cell_type": "code",
   "execution_count": 1,
   "metadata": {
    "collapsed": true
   },
   "outputs": [],
   "source": [
    "#-*- coding: utf-8 -*-\n",
    "#import sys\n",
    "#reload(sys)\n",
    "#sys.setdefaultencoding('utf-8')\n",
    "import urllib\n",
    "from bs4 import BeautifulSoup\n",
    "from selenium import webdriver\n",
    "from selenium.webdriver.support.ui import Select\n",
    "import time\n",
    "import json\n",
    "import numpy as np\n",
    "import pickle"
   ]
  },
  {
   "cell_type": "code",
   "execution_count": 15,
   "metadata": {
    "collapsed": true
   },
   "outputs": [],
   "source": [
    "f = open('Parsing_TeamData_from_KBO.txt', 'rb')\n",
    "\n",
    "result = pickle.load(f)\n",
    "\n",
    "f.close()"
   ]
  },
  {
   "cell_type": "code",
   "execution_count": 17,
   "metadata": {
    "collapsed": false
   },
   "outputs": [],
   "source": [
    "### 한글 팀명 -> 영어 팀명 ###\n",
    "\n",
    "j, k = 0, -1\n",
    "for i in range(len(result)):\n",
    "    if(result[i][2][j]=='삼성'):\n",
    "        result[i][2][j] = 'SAM'\n",
    "    elif(result[i][2][j]=='한화'):\n",
    "        result[i][2][j] = 'HAN'\n",
    "    elif(result[i][2][j]=='두산'):\n",
    "        result[i][2][j] = 'DUS'\n",
    "    elif(result[i][2][j]=='롯데'):\n",
    "        result[i][2][j] = 'LOT'\n",
    "    elif(result[i][2][j]=='넥센'):\n",
    "        result[i][2][j] = 'NEX'\n",
    "for i in range(len(result)):\n",
    "    if(result[i][2][k]=='삼성'):\n",
    "        result[i][2][k] = 'SAM'\n",
    "    elif(result[i][2][k]=='한화'):\n",
    "        result[i][2][k] = 'HAN'\n",
    "    elif(result[i][2][k]=='두산'):\n",
    "        result[i][2][k] = 'DUS'\n",
    "    elif(result[i][2][k]=='롯데'):\n",
    "        result[i][2][k] = 'LOT'\n",
    "    elif(result[i][2][k]=='넥센'):\n",
    "        result[i][2][k] = 'NEX'"
   ]
  },
  {
   "cell_type": "code",
   "execution_count": 18,
   "metadata": {
    "collapsed": false
   },
   "outputs": [],
   "source": [
    "### vs제거 ###\n",
    "\n",
    "for i in range(len(result)):\n",
    "    for j in range(len(result[i][2])):\n",
    "        if result[i][2][j] == 'vs':\n",
    "            del result[i][2][j]\n",
    "            break"
   ]
  },
  {
   "cell_type": "code",
   "execution_count": 19,
   "metadata": {
    "collapsed": false
   },
   "outputs": [],
   "source": [
    "### 한화의 각 경기 당 점수차(2011.04~2016.10) ###\n",
    "\n",
    "score = []\n",
    "\n",
    "for i in range(len(result)):\n",
    "    if (len(result[i][2])>3 and result[i][2][0] == 'HAN'):\n",
    "        score.append(int(result[i][2][1])-int(result[i][2][2]))\n",
    "    elif len(result[i][2])>3 and result[i][2][0] != 'HAN':\n",
    "        score.append(int(result[i][2][2])-int(result[i][2][1]))\n",
    "    #elif len(result[i][2])<3:\n",
    "        #score.append('NULL')"
   ]
  },
  {
   "cell_type": "code",
   "execution_count": 32,
   "metadata": {
    "collapsed": false
   },
   "outputs": [
    {
     "name": "stdout",
     "output_type": "stream",
     "text": [
      "912\n",
      "911\n"
     ]
    }
   ],
   "source": [
    "## train데이터, label데이터 생성 ##\n",
    "\n",
    "train = []\n",
    "label = []\n",
    "\n",
    "datalen = 30\n",
    "\n",
    "for i in range(len(score)):\n",
    "    if i+datalen>len(score):\n",
    "        continue\n",
    "    train.append([])\n",
    "    for j in range(datalen):  \n",
    "        train[i].append(score[i+j])\n",
    "        \n",
    "i=1\n",
    "while(1):\n",
    "    if i==len(train):\n",
    "        break\n",
    "    label.append([])\n",
    "    if train[i][0]<0:\n",
    "        label[i-1].append(0)\n",
    "        label[i-1].append(0)\n",
    "        label[i-1].append(1)\n",
    "    elif train[i][0]>0:\n",
    "        label[i-1].append(1)\n",
    "        label[i-1].append(0)\n",
    "        label[i-1].append(0)\n",
    "    else:\n",
    "        label[i-1].append(0)\n",
    "        label[i-1].append(1)\n",
    "        label[i-1].append(0)\n",
    "    i = i+1\n",
    "        \n",
    "\n",
    "print len(train)\n",
    "print len(label)"
   ]
  },
  {
   "cell_type": "code",
   "execution_count": 21,
   "metadata": {
    "collapsed": false
   },
   "outputs": [],
   "source": [
    "## numpyarray 변환 ##\n",
    "\n",
    "nptrain = np.array(train)\n",
    "nplabel = np.array(label)"
   ]
  },
  {
   "cell_type": "code",
   "execution_count": 22,
   "metadata": {
    "collapsed": false
   },
   "outputs": [],
   "source": [
    "f1 = open('TrainData_team_from_KBO.txt', 'wb')\n",
    "f2 = open('LabelData_team_from_KBO.txt', 'wb')\n",
    "pickle.dump(nptrain, f1)\n",
    "pickle.dump(nplabel, f2)\n",
    "f1.close()\n",
    "f2.close()"
   ]
  },
  {
   "cell_type": "code",
   "execution_count": 41,
   "metadata": {
    "collapsed": true
   },
   "outputs": [],
   "source": [
    "## 한화의 게임 날짜 ##\n",
    "\n",
    "date = []\n",
    "for i in range(len(result)):\n",
    "    if len(result[i][2])>3:\n",
    "        date.append(result[i][0][:10])\n",
    "    \n",
    "for i in range(len(date)):\n",
    "    date[i] = date[i].replace(\".\", \"-\")"
   ]
  },
  {
   "cell_type": "code",
   "execution_count": 42,
   "metadata": {
    "collapsed": true
   },
   "outputs": [],
   "source": [
    "f = open('Data_HanHwa_GameDate_from_KBO.txt', 'wb')\n",
    "\n",
    "pickle.dump(date, f)\n",
    "\n",
    "f.close()"
   ]
  },
  {
   "cell_type": "code",
   "execution_count": null,
   "metadata": {
    "collapsed": true
   },
   "outputs": [],
   "source": []
  }
 ],
 "metadata": {
  "anaconda-cloud": {},
  "kernelspec": {
   "display_name": "Python [default]",
   "language": "python",
   "name": "python2"
  },
  "language_info": {
   "codemirror_mode": {
    "name": "ipython",
    "version": 2
   },
   "file_extension": ".py",
   "mimetype": "text/x-python",
   "name": "python",
   "nbconvert_exporter": "python",
   "pygments_lexer": "ipython2",
   "version": "2.7.12"
  }
 },
 "nbformat": 4,
 "nbformat_minor": 1
}

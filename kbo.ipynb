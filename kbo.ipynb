{
 "cells": [
  {
   "cell_type": "code",
   "execution_count": 55,
   "metadata": {
    "collapsed": false
   },
   "outputs": [
    {
     "name": "stdout",
     "output_type": "stream",
     "text": [
      "1   | 최형우  | 삼성| 0.376| 138 | 618 | 519 | 99  | 195 | 46  | 2   | 31  | 338 | 144 | 0   | 7   \n",
      "2   | 김태균  | 한화| 0.365| 144 | 652 | 529 | 94  | 193 | 39  | 0   | 23  | 301 | 136 | 0   | 6   \n",
      "3   | 이용규  | 한화| 0.352| 113 | 530 | 452 | 98  | 159 | 20  | 4   | 3   | 196 | 41  | 7   | 1   \n",
      "4   | 김주찬  | KIA | 0.346| 130 | 555 | 511 | 97  | 177 | 37  | 3   | 23  | 289 | 101 | 1   | 6   \n",
      "5   | 박용택  | LG  | 0.346| 138 | 578 | 509 | 84  | 176 | 24  | 0   | 11  | 233 | 90  | 0   | 7   \n",
      "6   | 구자욱  | 삼성| 0.343| 108 | 495 | 428 | 105 | 147 | 19  | 13  | 14  | 234 | 77  | 2   | 5   \n",
      "7   | 박민우  | NC  | 0.343| 121 | 515 | 435 | 84  | 149 | 16  | 6   | 3   | 186 | 55  | 10  | 7   \n",
      "8   | 유한준  | kt  | 0.336| 110 | 460 | 408 | 70  | 137 | 22  | 0   | 14  | 201 | 64  | 0   | 3   \n",
      "9   | 황재균  | 롯데| 0.335| 127 | 559 | 498 | 97  | 167 | 26  | 5   | 27  | 284 | 113 | 0   | 8   \n",
      "10  | 박건우  | 두산| 0.335| 132 | 540 | 484 | 95  | 162 | 36  | 4   | 20  | 266 | 83  | 4   | 5   \n",
      "11  | 고종욱  | 넥센| 0.334| 133 | 566 | 527 | 92  | 176 | 22  | 9   | 8   | 240 | 72  | 1   | 5   \n",
      "12  | 김재환  | 두산| 0.325| 134 | 568 | 492 | 107 | 160 | 32  | 3   | 37  | 309 | 124 | 0   | 5   \n",
      "13  | 송광민  | 한화| 0.325| 116 | 494 | 449 | 80  | 146 | 27  | 2   | 17  | 228 | 83  | 7   | 6   \n",
      "14  | 김문호  | 롯데| 0.325| 140 | 599 | 526 | 77  | 171 | 28  | 3   | 7   | 226 | 70  | 3   | 2   \n",
      "15  | 서건창  | 넥센| 0.325| 140 | 646 | 560 | 111 | 182 | 30  | 7   | 7   | 247 | 63  | 3   | 4   \n",
      "16  | 민병헌  | 두산| 0.325| 134 | 579 | 511 | 98  | 166 | 31  | 4   | 16  | 253 | 87  | 1   | 4   \n",
      "17  | 손아섭  | 롯데| 0.323| 144 | 672 | 575 | 118 | 186 | 33  | 1   | 16  | 269 | 81  | 0   | 2   \n",
      "18  | 강민호  | 롯데| 0.323| 116 | 460 | 381 | 65  | 123 | 26  | 0   | 20  | 209 | 72  | 0   | 3   \n",
      "19  | 로사리오| 한화| 0.321| 127 | 532 | 492 | 78  | 158 | 31  | 2   | 33  | 292 | 120 | 1   | 2   \n",
      "20  | 테임즈  | NC  | 0.321| 123 | 529 | 436 | 118 | 140 | 30  | 3   | 40  | 296 | 121 | 0   | 7   \n",
      "21  | 이대형  | kt  | 0.320| 143 | 654 | 600 | 89  | 192 | 14  | 3   | 1   | 215 | 42  | 7   | 1   \n",
      "22  | 김성현  | SK  | 0.319| 138 | 530 | 479 | 66  | 153 | 28  | 0   | 8   | 205 | 65  | 5   | 7   \n",
      "23  | 오재일  | 두산| 0.316| 105 | 455 | 380 | 69  | 120 | 20  | 2   | 27  | 225 | 92  | 2   | 7   \n",
      "24  | 박경수  | kt  | 0.313| 121 | 476 | 402 | 64  | 126 | 22  | 1   | 20  | 210 | 80  | 0   | 4   \n",
      "25  | 채은성  | LG  | 0.313| 128 | 451 | 403 | 64  | 126 | 20  | 3   | 9   | 179 | 81  | 2   | 8   \n",
      "26  | 필        | KIA | 0.313| 132 | 544 | 499 | 71  | 156 | 37  | 1   | 20  | 255 | 86  | 0   | 7   \n",
      "27  | 정의윤  | SK  | 0.311| 144 | 616 | 576 | 68  | 179 | 32  | 1   | 27  | 294 | 100 | 0   | 5   \n",
      "28  | 김재호  | 두산| 0.310| 137 | 496 | 416 | 69  | 129 | 27  | 3   | 7   | 183 | 78  | 5   | 13  \n",
      "29  | 이범호  | KIA | 0.310| 138 | 560 | 484 | 93  | 150 | 23  | 0   | 33  | 272 | 108 | 0   | 7   \n",
      "30  | 정근우  | 한화| 0.310| 138 | 650 | 575 | 121 | 178 | 31  | 2   | 18  | 267 | 88  | 1   | 5   \n"
     ]
    }
   ],
   "source": [
    "#타자 데이터\n",
    "import urllib\n",
    "from bs4 import BeautifulSoup\n",
    "html       = urllib.urlopen('http://www.koreabaseball.com/Record/Player/HitterBasic/Basic1.aspx')\n",
    "soup       = BeautifulSoup(html, \"lxml\")\n",
    "table      = soup.find('table', attrs={'class':'tData01 tt'}) #class=\"tData01 tt\"인 table태그를 찾음\n",
    "table_body = table.find('tbody') #table 데이터 중 tbody태그를 찾음\n",
    "rows       = table_body.find_all('tr') #table_tbody 데이터 중 tr태그를 전부 찾음\n",
    "for row in rows:\n",
    "    cells    = row.findAll('td') #각 td태그마다 저장된 데이터(text)들을 각 변수에 하나씩 저장\n",
    "    Rank     = cells[0].find(text=True) #순위\n",
    "    Name     = cells[1].find(text=True) #이름\n",
    "    teamName = cells[2].find(text=True) #팀이름\n",
    "    AVG      = cells[3].find(text=True) #타율\n",
    "    G        = cells[4].find(text=True) #게임수\n",
    "    PA       = cells[5].find(text=True) #타석\n",
    "    AB       = cells[6].find(text=True) #타수\n",
    "    R        = cells[7].find(text=True) #득점\n",
    "    H        = cells[8].find(text=True) #안타\n",
    "    _2B      = cells[9].find(text=True) #2루타\n",
    "    _3B      = cells[10].find(text=True) #3루타\n",
    "    HR       = cells[11].find(text=True) #홈런\n",
    "    TB       = cells[12].find(text=True) #루타\n",
    "    RBI      = cells[13].find(text=True) #타점\n",
    "    SAC      = cells[14].find(text=True) #희생번트\n",
    "    SF       = cells[15].find(text=True) #희생플라이\n",
    "    print (\"{0:4s}| {1:11s}| {2:4s}| {3:4s}| {4:4s}| {5:4s}| {6:4s}| {7:4s}| {8:4s}| {9:4s}| {10:4s}| {11:4s}| {12:4s}| {13:4s}| {14:4s}| {15:4s}\"\n",
    "           .format(Rank, Name.encode('utf-8'), teamName.encode('utf-8'), AVG, G, PA, AB, R, H, _2B, _3B, HR, TB, RBI, SAC, SF))\n"
   ]
  },
  {
   "cell_type": "code",
   "execution_count": null,
   "metadata": {
    "collapsed": true
   },
   "outputs": [],
   "source": []
  }
 ],
 "metadata": {
  "anaconda-cloud": {},
  "kernelspec": {
   "display_name": "Python [conda root]",
   "language": "python",
   "name": "conda-root-py"
  },
  "language_info": {
   "codemirror_mode": {
    "name": "ipython",
    "version": 2
   },
   "file_extension": ".py",
   "mimetype": "text/x-python",
   "name": "python",
   "nbconvert_exporter": "python",
   "pygments_lexer": "ipython2",
   "version": "2.7.12"
  }
 },
 "nbformat": 4,
 "nbformat_minor": 1
}

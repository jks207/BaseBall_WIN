{
 "cells": [
  {
   "cell_type": "code",
   "execution_count": null,
   "metadata": {
    "collapsed": true
   },
   "outputs": [],
   "source": [
    "import tensorflow as tf\n",
    "import math\n",
    "import numpy as np\n",
    "import os\n",
    "import matplotlib.pyplot as plt\n",
    "from tensorflow.examples.tutorials.mnist import input_data\n",
    "%matplotlib inline"
   ]
  },
  {
   "cell_type": "code",
   "execution_count": null,
   "metadata": {
    "collapsed": false
   },
   "outputs": [],
   "source": [
    "mnist = input_data.read_data_sets(\"MNIST_data/\", one_hot=True)"
   ]
  },
  {
   "cell_type": "code",
   "execution_count": null,
   "metadata": {
    "collapsed": false
   },
   "outputs": [],
   "source": [
    "print type(mnist.train.images), mnist.train.images.shape\n",
    "print type(mnist.train.labels), mnist.train.labels.shape"
   ]
  },
  {
   "cell_type": "code",
   "execution_count": null,
   "metadata": {
    "collapsed": false
   },
   "outputs": [],
   "source": [
    "print type(mnist.validation.images), mnist.validation.images.shape   \n",
    "print type(mnist.validation.labels), mnist.validation.labels.shape"
   ]
  },
  {
   "cell_type": "code",
   "execution_count": null,
   "metadata": {
    "collapsed": false
   },
   "outputs": [],
   "source": [
    "print type(mnist.test.images), mnist.test.images.shape\n",
    "print type(mnist.test.labels), mnist.test.labels.shape"
   ]
  },
  {
   "cell_type": "code",
   "execution_count": null,
   "metadata": {
    "collapsed": true
   },
   "outputs": [],
   "source": [
    "class VanillaNN:\n",
    "    def __init__(self):\n",
    "        self.epoch_list                  = []\n",
    "        self.train_error_value_list      = []\n",
    "        self.validation_error_value_list = []\n",
    "        self.test_error_value_list       = []\n",
    "        self.test_accuracy_list          = []\n",
    "            \n",
    "    def setData(self, n_input, n_classes, trainData, validationData, testData):\n",
    "        self.n_input     = n_input            # 784\n",
    "        self.n_classes   = n_classes          # 10\n",
    "        self.trainData   = trainData\n",
    "        self.validationData = validationData\n",
    "        self.testData = testData\n",
    "\n",
    "    #Create model\n",
    "    def makeModel(self, n_hidden, learning_rate):\n",
    "        self.n_hidden        = n_hidden\n",
    "        self.numHiddenLayer  = len(n_hidden)\n",
    "        self.learning_rate   = learning_rate\n",
    "        \n",
    "        #tf Graph input\n",
    "        self.x = tf.placeholder(tf.float32, (None, self.n_input))\n",
    "        self.y = tf.placeholder(tf.float32, (None, self.n_classes))\n",
    "\n",
    "        if (self.numHiddenLayer == 0):\n",
    "            self.weight = tf.Variable(tf.zeros([self.n_input, self.n_classes]))\n",
    "            self.bias = tf.Variable(tf.zeros([self.n_classes]))\n",
    "            self.pred = tf.add(tf.matmul(self.x, self.weight), self.bias)\n",
    "        else:\n",
    "            #Store layers weight & bias\n",
    "            self.weights = {\n",
    "                1: tf.Variable(tf.random_normal([self.n_input, self.n_hidden[0]])),\n",
    "                'out': tf.Variable(tf.random_normal([self.n_hidden[0], self.n_classes]))\n",
    "            }\n",
    "            self.biases = {\n",
    "                1: tf.Variable(tf.random_normal([self.n_hidden[0]])),\n",
    "                'out': tf.Variable(tf.random_normal([self.n_classes]))\n",
    "            }\n",
    "            \n",
    "            self.u = tf.add(tf.matmul(self.x, self.weights[1]), self.biases[1])\n",
    "            self.z = tf.nn.relu(self.u)\n",
    "\n",
    "            if (self.numHiddenLayer >= 2):\n",
    "                for i in range(self.numHiddenLayer - 1):\n",
    "                    self.weights[i+2] = tf.Variable(tf.random_normal([self.n_hidden[i], self.n_hidden[i+1]]))\n",
    "                    self.biases[i+2] = tf.Variable(tf.random_normal([self.n_hidden[i+1]]))\n",
    "                self.weights['out'] = tf.Variable(tf.random_normal([self.n_hidden[self.numHiddenLayer - 1], self.n_classes]))\n",
    "                self.biases['out'] = tf.Variable(tf.random_normal([self.n_classes]))\n",
    "        \n",
    "                for i in range(self.numHiddenLayer - 1):\n",
    "                    self.u = tf.add(tf.matmul(self.z, self.weights[i+2]), self.biases[i+2])\n",
    "                    self.z = tf.nn.relu(self.u)\n",
    "        \n",
    "            self.pred = tf.add(tf.matmul(self.z, self.weights['out']), self.biases['out'])\n",
    "        \n",
    "        self.error = tf.reduce_mean(tf.nn.softmax_cross_entropy_with_logits(self.pred, self.y))\n",
    "        self.optimizer = tf.train.GradientDescentOptimizer(self.learning_rate).minimize(self.error)\n",
    "\n",
    "        self.prediction_ground_truth = tf.equal(tf.argmax(self.pred, 1), tf.argmax(self.y, 1))\n",
    "        self.accuracy = tf.reduce_mean(tf.cast(self.prediction_ground_truth, tf.float32))\n",
    "    \n",
    "    def learning(self, batch_size, training_epochs):\n",
    "        self.batch_size      = batch_size\n",
    "        self.training_epochs = training_epochs\n",
    "        self.init = tf.global_variables_initializer()\n",
    "\n",
    "        with tf.Session() as sess:\n",
    "            sess.run(self.init)\n",
    "            self.total_batch = int(math.ceil(self.trainData.num_examples/float(self.batch_size)))\n",
    "            print \"Total batch: %d\" % self.total_batch\n",
    "\n",
    "            for epoch in range(self.training_epochs):\n",
    "                for i in range(self.total_batch):\n",
    "                    batch_images, batch_labels = self.trainData.next_batch(self.batch_size)\n",
    "                    _, error_value = sess.run((self.optimizer, self.error), \n",
    "                                              feed_dict={self.x: batch_images, self.y: batch_labels})\n",
    "\n",
    "                self.epoch_list.append(epoch)\n",
    "                \n",
    "                self.train_error_value_list.append(error_value)\n",
    "\n",
    "                v_error_value = sess.run(self.error, \n",
    "                                         feed_dict={self.x: self.validationData.images, self.y: self.validationData.labels})\n",
    "                self.validation_error_value_list.append(v_error_value)\n",
    "                \n",
    "                self.printLossAccuracyForTestData(epoch, sess)\n",
    "\n",
    "            self.drawErrorValues()\n",
    "\n",
    "            self.drawFalsePrediction(sess, 10)\n",
    "\n",
    "            print(\"Training % Test finished!\")\n",
    "            \n",
    "    def printLossAccuracyForTestData(self, epoch, sess):\n",
    "        accuracy_value, error_value = sess.run((self.accuracy, self.error), \n",
    "                                               feed_dict={self.x: self.testData.images, self.y: self.testData.labels})\n",
    "        self.test_error_value_list.append(error_value)\n",
    "        self.test_accuracy_list.append(accuracy_value)\n",
    "        print \"epoch: %d, test_error_value: %f, test_accuracy: %f\" % (epoch, error_value, accuracy_value)\n",
    "        \n",
    "    def drawErrorValues(self):\n",
    "        fig = plt.figure(figsize=(20, 5))\n",
    "        plt.subplot(121)\n",
    "        plt.plot(self.epoch_list, self.train_error_value_list, 'r', label='Train')\n",
    "        plt.plot(self.epoch_list, self.validation_error_value_list, 'g', label='Validation')\n",
    "        plt.plot(self.epoch_list, self.test_error_value_list, 'b', label='Test')\n",
    "        plt.ylabel('Total Error')\n",
    "        plt.xlabel('Epochs')\n",
    "        plt.grid(True)\n",
    "        plt.legend(loc='upper right')\n",
    "        \n",
    "        plt.subplot(122)\n",
    "        plt.plot(self.epoch_list, self.test_accuracy_list, 'b', label='Test')\n",
    "        plt.ylabel('Accuracy')\n",
    "        plt.xlabel('Epochs')\n",
    "        plt.yticks(np.arange(min(self.test_accuracy_list), max(self.test_accuracy_list), 0.05))\n",
    "        plt.grid(True)\n",
    "        plt.legend(loc='lower right')            \n",
    "        plt.show()\n",
    "\n",
    "    def drawFalsePrediction(self, sess, numPrintImages):\n",
    "        ground_truth = sess.run(tf.argmax(self.y, 1), feed_dict={self.y: self.testData.labels})\n",
    "        prediction = sess.run(tf.argmax(self.pred, 1), feed_dict={self.x: self.testData.images})\n",
    "\n",
    "        fig = plt.figure(figsize=(20, 5))\n",
    "        j = 1\n",
    "        for i in range(self.testData.num_examples):\n",
    "            if (j > numPrintImages):\n",
    "                break;\n",
    "            if (prediction[i] != ground_truth[i]):\n",
    "                print \"Error Index: %s, Prediction: %s, Ground Truth: %s\" % (i, prediction[i], ground_truth[i])\n",
    "                img = np.array(self.testData.images[i])\n",
    "                img.shape = (28, 28)\n",
    "                plt.subplot(1, numPrintImages, j)\n",
    "                plt.imshow(img)\n",
    "                j += 1"
   ]
  },
  {
   "cell_type": "markdown",
   "metadata": {},
   "source": [
    "## Vanilla (Sigle Layer + Batch)"
   ]
  },
  {
   "cell_type": "code",
   "execution_count": null,
   "metadata": {
    "collapsed": false
   },
   "outputs": [],
   "source": [
    "#Parameter: Batch_size, Training_epochs, learning_rate, n_hidden\n",
    "vanilla = VanillaNN()\n",
    "vanilla.setData(n_input = 784, \n",
    "                n_classes = 10, \n",
    "                trainData = mnist.train, \n",
    "                validationData = mnist.validation, \n",
    "                testData = mnist.test)\n",
    "vanilla.makeModel(n_hidden = [], learning_rate = 0.001)\n",
    "vanilla.learning(batch_size = 100, training_epochs = 50)"
   ]
  },
  {
   "cell_type": "markdown",
   "metadata": {},
   "source": [
    "## Vanilla (Multi Layer + Batch) - 2 Hidden Layers, 128 neurons per Hidden Layer "
   ]
  },
  {
   "cell_type": "code",
   "execution_count": null,
   "metadata": {
    "collapsed": false
   },
   "outputs": [],
   "source": [
    "vanilla2 = VanillaNN()\n",
    "vanilla2.setData(n_input = 784,\n",
    "                      n_classes = 10,\n",
    "                      trainData = mnist.train,\n",
    "                      validationData = mnist.validation,\n",
    "                      testData = mnist.test)\n",
    "vanilla2.makeModel(n_hidden = [128, 128], learning_rate = 0.001)\n",
    "vanilla2.learning(batch_size = 100, training_epochs = 50)"
   ]
  },
  {
   "cell_type": "markdown",
   "metadata": {},
   "source": [
    "## Vanilla (Multi Layer + Batch) - 3 Hidden Layers, 256 neurons per Hidden Layer "
   ]
  },
  {
   "cell_type": "code",
   "execution_count": null,
   "metadata": {
    "collapsed": false
   },
   "outputs": [],
   "source": [
    "#Parameter: Batch_size, Training_epochs, learning_rate, n_hidden\n",
    "vanilla3 = VanillaNN()\n",
    "vanilla3.setData(n_input = 784,\n",
    "                 n_classes = 10,\n",
    "                 trainData = mnist.train,\n",
    "                 validationData = mnist.validation,\n",
    "                 testData = mnist.test)\n",
    "vanilla3.makeModel(n_hidden = [256, 256, 256], learning_rate = 0.001)\n",
    "vanilla3.learning(batch_size = 100, training_epochs = 50)"
   ]
  },
  {
   "cell_type": "code",
   "execution_count": null,
   "metadata": {
    "collapsed": false
   },
   "outputs": [],
   "source": [
    "plt.plot(vanilla.epoch_list, vanilla.test_accuracy_list, 'r', label='Vanilla - Sigle Layer')\n",
    "plt.plot(vanilla2.epoch_list, vanilla2.test_accuracy_list, 'g', label='Vanilla2 - 128 neurons/2 Hidden Layers')\n",
    "plt.plot(vanilla3.epoch_list, vanilla3.test_accuracy_list, 'b', label='Vanilla3 - 256 neurons/3 Hidden Layers')\n",
    "plt.ylabel('Accuracy')\n",
    "plt.xlabel('Epochs')\n",
    "plt.grid(True)\n",
    "plt.legend(loc='lower right')            \n",
    "plt.show()"
   ]
  }
 ],
 "metadata": {
  "anaconda-cloud": {},
  "kernelspec": {
   "display_name": "Python [conda root]",
   "language": "python",
   "name": "conda-root-py"
  },
  "language_info": {
   "codemirror_mode": {
    "name": "ipython",
    "version": 2
   },
   "file_extension": ".py",
   "mimetype": "text/x-python",
   "name": "python",
   "nbconvert_exporter": "python",
   "pygments_lexer": "ipython2",
   "version": "2.7.12"
  }
 },
 "nbformat": 4,
 "nbformat_minor": 0
}

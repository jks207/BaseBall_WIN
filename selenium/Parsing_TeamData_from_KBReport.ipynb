{
 "cells": [
  {
   "cell_type": "code",
   "execution_count": 1,
   "metadata": {
    "collapsed": false
   },
   "outputs": [],
   "source": [
    "#-*- coding: utf-8 -*-\n",
    "#import sys\n",
    "#reload(sys)\n",
    "#sys.setdefaultencoding('utf-8')\n",
    "from selenium.webdriver.common.by import By\n",
    "from selenium import webdriver\n",
    "from selenium.webdriver.common.keys import Keys\n",
    "from selenium.webdriver.support.ui import Select\n",
    "from selenium.webdriver.support.ui import WebDriverWait\n",
    "from selenium.webdriver.support import expected_conditions as EC\n",
    "from selenium.common.exceptions import TimeoutException\n",
    "#import pymysql\n",
    "import time\n",
    "import pickle"
   ]
  },
  {
   "cell_type": "code",
   "execution_count": 2,
   "metadata": {
    "collapsed": true
   },
   "outputs": [],
   "source": [
    "## 한화 경기 날짜 데이터 로딩 ##\n",
    "\n",
    "def loadDatefile(Datefilename):\n",
    "    f = open(Datefilename, 'rb')\n",
    "    List = pickle.load(f)\n",
    "    f.close()\n",
    "    return List"
   ]
  },
  {
   "cell_type": "code",
   "execution_count": null,
   "metadata": {
    "collapsed": true
   },
   "outputs": [],
   "source": [
    "dbURL = \"localhost\"\n",
    "dbUser = \"spring\"\n",
    "dbPass = \"book\"\n",
    "dbPort = 3306\n",
    "dbName = \"cfp\"\n",
    "\n",
    "conn = pymysql.connect(host=dbURL, port=dbPort, user=dbUser, passwd=dbPass, db=dbName, charset='utf8', use_unicode=True)"
   ]
  },
  {
   "cell_type": "code",
   "execution_count": 8,
   "metadata": {
    "collapsed": false
   },
   "outputs": [],
   "source": [
    "timesleep = 300\n",
    "DayList = loadDatefile('GameDate_HanHwa.txt')"
   ]
  },
  {
   "cell_type": "code",
   "execution_count": 10,
   "metadata": {
    "collapsed": false,
    "scrolled": false
   },
   "outputs": [
    {
     "ename": "TimeoutException",
     "evalue": "Message: \n",
     "output_type": "error",
     "traceback": [
      "\u001b[0;31m---------------------------------------------------------------------------\u001b[0m",
      "\u001b[0;31mTimeoutException\u001b[0m                          Traceback (most recent call last)",
      "\u001b[0;32m<ipython-input-10-5862714ff3a1>\u001b[0m in \u001b[0;36m<module>\u001b[0;34m()\u001b[0m\n\u001b[1;32m     38\u001b[0m     \u001b[0mspilt2_2\u001b[0m\u001b[1;33m.\u001b[0m\u001b[0msend_keys\u001b[0m\u001b[1;33m(\u001b[0m\u001b[0mday\u001b[0m\u001b[1;33m)\u001b[0m\u001b[1;33m\u001b[0m\u001b[0m\n\u001b[1;32m     39\u001b[0m     \u001b[0mdriver\u001b[0m\u001b[1;33m.\u001b[0m\u001b[0mfind_element\u001b[0m\u001b[1;33m(\u001b[0m\u001b[0mBy\u001b[0m\u001b[1;33m.\u001b[0m\u001b[0mXPATH\u001b[0m\u001b[1;33m,\u001b[0m \u001b[1;34m'//button[@class=\"ltb-button\"][@type=\"button\"]'\u001b[0m\u001b[1;33m)\u001b[0m\u001b[1;33m.\u001b[0m\u001b[0mclick\u001b[0m\u001b[1;33m(\u001b[0m\u001b[1;33m)\u001b[0m\u001b[1;33m\u001b[0m\u001b[0m\n\u001b[0;32m---> 40\u001b[0;31m     \u001b[0mWebDriverWait\u001b[0m\u001b[1;33m(\u001b[0m\u001b[0mdriver\u001b[0m\u001b[1;33m,\u001b[0m \u001b[0mtimesleep\u001b[0m\u001b[1;33m)\u001b[0m\u001b[1;33m.\u001b[0m\u001b[0muntil\u001b[0m\u001b[1;33m(\u001b[0m\u001b[0mEC\u001b[0m\u001b[1;33m.\u001b[0m\u001b[0mpresence_of_element_located\u001b[0m\u001b[1;33m(\u001b[0m\u001b[1;33m(\u001b[0m\u001b[0mBy\u001b[0m\u001b[1;33m.\u001b[0m\u001b[0mCSS_SELECTOR\u001b[0m\u001b[1;33m,\u001b[0m \u001b[1;34m'.ltb-table.responsive'\u001b[0m\u001b[1;33m)\u001b[0m\u001b[1;33m)\u001b[0m\u001b[1;33m)\u001b[0m\u001b[1;33m\u001b[0m\u001b[0m\n\u001b[0m\u001b[1;32m     41\u001b[0m \u001b[1;33m\u001b[0m\u001b[0m\n\u001b[1;32m     42\u001b[0m     \u001b[1;31m##데이터 가져오기\u001b[0m\u001b[1;33m\u001b[0m\u001b[1;33m\u001b[0m\u001b[0m\n",
      "\u001b[0;32mD:\\koreatech\\Anaconda2\\lib\\site-packages\\selenium\\webdriver\\support\\wait.pyc\u001b[0m in \u001b[0;36muntil\u001b[0;34m(self, method, message)\u001b[0m\n\u001b[1;32m     78\u001b[0m             \u001b[1;32mif\u001b[0m \u001b[0mtime\u001b[0m\u001b[1;33m.\u001b[0m\u001b[0mtime\u001b[0m\u001b[1;33m(\u001b[0m\u001b[1;33m)\u001b[0m \u001b[1;33m>\u001b[0m \u001b[0mend_time\u001b[0m\u001b[1;33m:\u001b[0m\u001b[1;33m\u001b[0m\u001b[0m\n\u001b[1;32m     79\u001b[0m                 \u001b[1;32mbreak\u001b[0m\u001b[1;33m\u001b[0m\u001b[0m\n\u001b[0;32m---> 80\u001b[0;31m         \u001b[1;32mraise\u001b[0m \u001b[0mTimeoutException\u001b[0m\u001b[1;33m(\u001b[0m\u001b[0mmessage\u001b[0m\u001b[1;33m,\u001b[0m \u001b[0mscreen\u001b[0m\u001b[1;33m,\u001b[0m \u001b[0mstacktrace\u001b[0m\u001b[1;33m)\u001b[0m\u001b[1;33m\u001b[0m\u001b[0m\n\u001b[0m\u001b[1;32m     81\u001b[0m \u001b[1;33m\u001b[0m\u001b[0m\n\u001b[1;32m     82\u001b[0m     \u001b[1;32mdef\u001b[0m \u001b[0muntil_not\u001b[0m\u001b[1;33m(\u001b[0m\u001b[0mself\u001b[0m\u001b[1;33m,\u001b[0m \u001b[0mmethod\u001b[0m\u001b[1;33m,\u001b[0m \u001b[0mmessage\u001b[0m\u001b[1;33m=\u001b[0m\u001b[1;34m''\u001b[0m\u001b[1;33m)\u001b[0m\u001b[1;33m:\u001b[0m\u001b[1;33m\u001b[0m\u001b[0m\n",
      "\u001b[0;31mTimeoutException\u001b[0m: Message: \n"
     ]
    }
   ],
   "source": [
    "###KBReport메인페이지\n",
    "\n",
    "driver = webdriver.Chrome(\"C:\\Users\\Kim Jin Hak\\Desktop\\chromedriver.exe\")\n",
    "url = \"http://www.kbreport.com/main\" \n",
    "driver.get(url)\n",
    "WebDriverWait(driver, timesleep).until(EC.presence_of_element_located((By.CSS_SELECTOR, 'head')))\n",
    "assert \"KBReport : 한국 프로야구 통계 사이트\".decode(\"utf-8\") in driver.title\n",
    "driver.maximize_window()\n",
    "\n",
    "##팀기록 접근\n",
    "maintap = driver.find_element(By.CSS_SELECTOR, \"a[href*='/teams']\")\n",
    "clickablemaintap = maintap.find_element(By.CSS_SELECTOR, \"li\").click()\n",
    "assert \"팀 타격메인기록 : KBReport\".decode(\"utf-8\") in driver.title\n",
    "WebDriverWait(driver, timesleep).until(EC.presence_of_element_located((By.CLASS_NAME, 'leader-tab-box')))\n",
    "\n",
    "result = []\n",
    "i = 0\n",
    "for day in DayList:\n",
    "    result.append([])\n",
    "    result[i].append(day)\n",
    "    ##타격기록 접근\n",
    "    #hittertap = driver.find_element(By.XPATH, \"//span[@class='ltb1-title'][text()='타격기록']\")\n",
    "    hittertaps = driver.find_elements(By.XPATH, '//span[@class=\"ltb1-title\"]')\n",
    "    hittertaps[1].click()\n",
    "    WebDriverWait(driver, timesleep).until(EC.presence_of_element_located((By.CLASS_NAME, 'ltb-select-left')))\n",
    "\n",
    "    ##옵션 선택\n",
    "    Select(driver.find_element(By.NAME, \"teamId\")).select_by_value('8')\n",
    "    Select(driver.find_element(By.NAME, \"defense_no\"))\n",
    "    Select(driver.find_element(By.NAME, \"year_from\")).select_by_value('2012')\n",
    "    Select(driver.find_element(By.NAME, \"year_to\")).select_by_value('2016')\n",
    "    Select(driver.find_element(By.ID, \"split01\")).select_by_value('day')\n",
    "    WebDriverWait(driver, timesleep).until(EC.presence_of_element_located((By.ID, 'split02_1_day')))\n",
    "    \n",
    "    spilt2_1 = driver.find_element(By.ID, \"split02_1_day\")\n",
    "    spilt2_2 = driver.find_element(By.ID, \"split02_2_day\")\n",
    "    spilt2_1.send_keys(day)\n",
    "    spilt2_2.send_keys(day)\n",
    "    driver.find_element(By.XPATH, '//button[@class=\"ltb-button\"][@type=\"button\"]').click()\n",
    "    WebDriverWait(driver, timesleep).until(EC.presence_of_element_located((By.CSS_SELECTOR, '.ltb-table.responsive')))\n",
    "    \n",
    "    ##데이터 가져오기\n",
    "    table = driver.find_element(By.CSS_SELECTOR, '.ltb-table.responsive')\n",
    "    tr = driver.find_elements(By.CSS_SELECTOR, 'tr')\n",
    "    td = tr[1].find_elements(By.CSS_SELECTOR, 'td:nth-child(n+9):nth-child(-n+20)')\n",
    "    for t in td:\n",
    "        result[i].append(t.text)\n",
    "    \n",
    "    ##투구기록 접근\n",
    "    #hittertap = driver.find_element(By.XPATH, \"//span[@class='ltb1-title'][text()='타격기록']\")\n",
    "    pitchertaps = driver.find_elements(By.XPATH, '//span[@class=\"ltb2-title\"]')\n",
    "    pitchertaps[1].click()\n",
    "    WebDriverWait(driver, timesleep).until(EC.presence_of_element_located((By.CLASS_NAME, 'ltb-select-left')))    \n",
    "\n",
    "    ##옵션 선택\n",
    "    Select(driver.find_element(By.NAME, \"teamId\")).select_by_value('8')\n",
    "    Select(driver.find_element(By.NAME, \"pitcher_type\"))\n",
    "    Select(driver.find_element(By.NAME, \"year_from\")).select_by_value('2012')\n",
    "    Select(driver.find_element(By.NAME, \"year_to\")).select_by_value('2016')\n",
    "    Select(driver.find_element(By.ID, \"split01\")).select_by_value('day')\n",
    "    WebDriverWait(driver, timesleep).until(EC.presence_of_element_located((By.ID, 'split02_1_day')))\n",
    "\n",
    "    spilt2_1 = driver.find_element(By.ID, \"split02_1_day\")\n",
    "    spilt2_2 = driver.find_element(By.ID, \"split02_2_day\")\n",
    "    spilt2_1.send_keys(day)\n",
    "    spilt2_2.send_keys(day)\n",
    "    driver.find_element(By.XPATH, '//button[@class=\"ltb-button\"][@type=\"button\"]').click()\n",
    "    WebDriverWait(driver, timesleep).until(EC.presence_of_element_located((By.CSS_SELECTOR, '.ltb-table.responsive')))\n",
    "    \n",
    "    ##데이터 가져오기\n",
    "    table = driver.find_element(By.CSS_SELECTOR, '.ltb-table.responsive')\n",
    "    td = table.find_elements(By.CSS_SELECTOR, 'td:nth-child(n+9):nth-child(-n+21)')\n",
    "    for t in td:\n",
    "        result[i].append(t.text)\n",
    "        \n",
    "    i = i+1\n",
    "    \n",
    "print 'finish'\n",
    "driver.quit()"
   ]
  },
  {
   "cell_type": "code",
   "execution_count": 15,
   "metadata": {
    "collapsed": false
   },
   "outputs": [
    {
     "name": "stdout",
     "output_type": "stream",
     "text": [
      "[u'2015-05-14']\n"
     ]
    }
   ],
   "source": [
    "for i in result:\n",
    "    if len(result[0]) != len(i):\n",
    "        print i"
   ]
  },
  {
   "cell_type": "code",
   "execution_count": 14,
   "metadata": {
    "collapsed": false
   },
   "outputs": [
    {
     "name": "stdout",
     "output_type": "stream",
     "text": [
      "39\n"
     ]
    }
   ],
   "source": [
    "print len(result[0])"
   ]
  },
  {
   "cell_type": "code",
   "execution_count": null,
   "metadata": {
    "collapsed": true
   },
   "outputs": [],
   "source": []
  }
 ],
 "metadata": {
  "anaconda-cloud": {},
  "kernelspec": {
   "display_name": "Python [conda root]",
   "language": "python",
   "name": "conda-root-py"
  },
  "language_info": {
   "codemirror_mode": {
    "name": "ipython",
    "version": 2
   },
   "file_extension": ".py",
   "mimetype": "text/x-python",
   "name": "python",
   "nbconvert_exporter": "python",
   "pygments_lexer": "ipython2",
   "version": "2.7.12"
  }
 },
 "nbformat": 4,
 "nbformat_minor": 1
}

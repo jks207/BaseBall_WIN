{
 "cells": [
  {
   "cell_type": "markdown",
   "metadata": {},
   "source": [
    "# KBO(경기일정/결과)에서 경기날짜 가져오기\n",
    "http://www.koreabaseball.com/Schedule/Schedule.aspx"
   ]
  },
  {
   "cell_type": "code",
   "execution_count": 1,
   "metadata": {
    "collapsed": true
   },
   "outputs": [],
   "source": [
    "from selenium.webdriver.common.by import By\n",
    "from selenium import webdriver\n",
    "from selenium.webdriver.common.keys import Keys\n",
    "from selenium.webdriver.support.ui import Select\n",
    "from selenium.webdriver.support.ui import WebDriverWait\n",
    "from selenium.webdriver.support import expected_conditions as EC\n",
    "from selenium.common.exceptions import TimeoutException\n",
    "import time\n",
    "import pickle"
   ]
  },
  {
   "cell_type": "code",
   "execution_count": 2,
   "metadata": {
    "collapsed": true
   },
   "outputs": [],
   "source": [
    "YearList = ['2012', '2013', '2014', '2015', '2016']\n",
    "MonthList= ['01','02', '03', '04', '05', '06', '07', '08', '09', '10', '11', '12']\n",
    "#NewYearList = ['2017']\n",
    "timesleep = 60"
   ]
  },
  {
   "cell_type": "code",
   "execution_count": 10,
   "metadata": {
    "collapsed": false
   },
   "outputs": [
    {
     "name": "stdout",
     "output_type": "stream",
     "text": [
      "finish\n"
     ]
    }
   ],
   "source": [
    "result = []\n",
    "\n",
    "driver = webdriver.Chrome(\"C:\\Users\\Kim Jin Hak\\Desktop\\chromedriver.exe\")\n",
    "url = 'http://www.koreabaseball.com/Default.aspx'\n",
    "\n",
    "##KBO접근\n",
    "driver.get(url)\n",
    "WebDriverWait(driver, timesleep).until(EC.presence_of_element_located((By.CSS_SELECTOR, 'head')))\n",
    "assert \"KBO 홈페이지\".decode(\"utf-8\") in driver.title\n",
    "driver.maximize_window()\n",
    "\n",
    "##일정/결과 접근\n",
    "maintap = driver.find_element(By.ID, \"lnb\")\n",
    "clickablemaintap = maintap.find_element(By.CSS_SELECTOR, \"a[href='/Schedule/GameCenter/Main.aspx']\").click()\n",
    "WebDriverWait(driver, timesleep).until(EC.presence_of_element_located((By.ID, 'snb')))\n",
    "\n",
    "##경기일정/결과 접근\n",
    "driver.find_element(By.ID, \"lnb03\").click()\n",
    "WebDriverWait(driver, timesleep).until(EC.presence_of_element_located((By.CLASS_NAME, 'tab-schedule')))\n",
    "\n",
    "##옵션선택 후 데이터 수집\n",
    "driver.find_element(By.ID, \"contents\").find_element(By.CLASS_NAME, 'tab-schedule').find_element(By.CSS_SELECTOR, 'li:nth-child(8)').click()\n",
    "for year in YearList:\n",
    "    for month in MonthList:\n",
    "        Select(driver.find_element(By.ID, 'ddlYear')).select_by_value(year)\n",
    "        Select(driver.find_element(By.ID, 'ddlMonth')).select_by_value(month)\n",
    "        WebDriverWait(driver, timesleep).until(EC.presence_of_element_located((By.ID, 'tblSchedule')))\n",
    "        date = driver.find_element(By.ID, \"tblSchedule\").find_element(By.CSS_SELECTOR, 'tbody').find_elements(By.CSS_SELECTOR, 'tr')\n",
    "        if date[0].text!='데이터가 없습니다.'.decode('utf-8'):\n",
    "            for day in date:\n",
    "                if day.find_element(By.CSS_SELECTOR, 'td:nth-child(9)').text != '우천취소'.decode('utf-8'):\n",
    "                    daytext = day.find_element(By.CLASS_NAME, 'day').text\n",
    "                    result.append(year + '.' + daytext[:-3])\n",
    "\n",
    "print 'finish'\n",
    "driver.quit()"
   ]
  },
  {
   "cell_type": "code",
   "execution_count": 11,
   "metadata": {
    "collapsed": false
   },
   "outputs": [],
   "source": [
    "for i in range(len(result)):\n",
    "    result[i] = result[i].replace(\".\", \"-\")"
   ]
  },
  {
   "cell_type": "code",
   "execution_count": 12,
   "metadata": {
    "collapsed": true
   },
   "outputs": [],
   "source": [
    "f = open('GameDate_HanHwa.txt', 'wb')\n",
    "pickle.dump(result, f)\n",
    "f.close()"
   ]
  },
  {
   "cell_type": "code",
   "execution_count": null,
   "metadata": {
    "collapsed": true
   },
   "outputs": [],
   "source": []
  }
 ],
 "metadata": {
  "anaconda-cloud": {},
  "kernelspec": {
   "display_name": "Python [default]",
   "language": "python",
   "name": "python2"
  },
  "language_info": {
   "codemirror_mode": {
    "name": "ipython",
    "version": 2
   },
   "file_extension": ".py",
   "mimetype": "text/x-python",
   "name": "python",
   "nbconvert_exporter": "python",
   "pygments_lexer": "ipython2",
   "version": "2.7.12"
  }
 },
 "nbformat": 4,
 "nbformat_minor": 1
}

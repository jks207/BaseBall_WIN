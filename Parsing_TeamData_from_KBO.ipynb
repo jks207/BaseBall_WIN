{
 "cells": [
  {
   "cell_type": "markdown",
   "metadata": {},
   "source": [
    "# KBO(경기일정/결과)에서 데이터 가져오기\n",
    "http://www.koreabaseball.com/Schedule/GameList/General.aspx"
   ]
  },
  {
   "cell_type": "code",
   "execution_count": 2,
   "metadata": {
    "collapsed": true
   },
   "outputs": [],
   "source": [
    "#-*- coding: utf-8 -*-\n",
    "#import sys\n",
    "#reload(sys)\n",
    "#sys.setdefaultencoding('utf-8')\n",
    "import urllib\n",
    "from bs4 import BeautifulSoup\n",
    "from selenium import webdriver\n",
    "from selenium.webdriver.support.ui import Select\n",
    "import time\n",
    "import json\n",
    "import numpy as np\n",
    "import pickle"
   ]
  },
  {
   "cell_type": "code",
   "execution_count": 3,
   "metadata": {
    "collapsed": true
   },
   "outputs": [],
   "source": [
    "## 필요 리스트 ##\n",
    "\n",
    "YearList = ['2010', '2011', '2012', '2013', '2014', '2015', '2016']\n",
    "MonthList= ['03', '04', '05', '06', '07', '08', '09', '10']\n",
    "sleeptime = 2\n",
    "##Team = 'HH'"
   ]
  },
  {
   "cell_type": "code",
   "execution_count": 21,
   "metadata": {
    "collapsed": false
   },
   "outputs": [
    {
     "name": "stdout",
     "output_type": "stream",
     "text": [
      "201003KBO 정규시즌 일정\n",
      "201004KBO 정규시즌 일정\n",
      "201005KBO 정규시즌 일정\n",
      "201006KBO 정규시즌 일정\n",
      "201007KBO 정규시즌 일정\n",
      "201008KBO 정규시즌 일정\n",
      "201009KBO 정규시즌 일정\n",
      "201104KBO 정규시즌 일정\n",
      "201105KBO 정규시즌 일정\n",
      "201106KBO 정규시즌 일정\n",
      "201107KBO 정규시즌 일정\n",
      "201108KBO 정규시즌 일정\n",
      "201109KBO 정규시즌 일정\n",
      "201110KBO 정규시즌 일정\n",
      "201204KBO 정규시즌 일정\n",
      "201205KBO 정규시즌 일정\n",
      "201206KBO 정규시즌 일정\n",
      "201207KBO 정규시즌 일정\n",
      "201208KBO 정규시즌 일정\n",
      "201209KBO 정규시즌 일정\n",
      "201210KBO 정규시즌 일정\n",
      "201304KBO 정규시즌 일정\n",
      "201305KBO 정규시즌 일정\n",
      "201306KBO 정규시즌 일정\n",
      "201307KBO 정규시즌 일정\n",
      "201308KBO 정규시즌 일정\n",
      "201309KBO 정규시즌 일정\n",
      "201310KBO 정규시즌 일정\n",
      "201403KBO 정규시즌 일정\n",
      "201404KBO 정규시즌 일정\n",
      "201405KBO 정규시즌 일정\n",
      "201406KBO 정규시즌 일정\n",
      "201407KBO 정규시즌 일정\n",
      "201408KBO 정규시즌 일정\n",
      "201409KBO 정규시즌 일정\n",
      "201410KBO 정규시즌 일정\n",
      "201503KBO 정규시즌 일정\n",
      "201504KBO 정규시즌 일정\n",
      "201505KBO 정규시즌 일정\n",
      "201506KBO 정규시즌 일정\n",
      "201507KBO 정규시즌 일정\n",
      "201508KBO 정규시즌 일정\n",
      "201509KBO 정규시즌 일정\n",
      "201510KBO 정규시즌 일정\n",
      "201604KBO 정규시즌 일정\n",
      "201605KBO 정규시즌 일정\n",
      "201606KBO 정규시즌 일정\n",
      "201607KBO 정규시즌 일정\n",
      "201608KBO 정규시즌 일정\n",
      "201609KBO 정규시즌 일정\n",
      "201610KBO 정규시즌 일정\n",
      "finish\n"
     ]
    }
   ],
   "source": [
    "### 데이터 파싱 ###\n",
    "\n",
    "driver = webdriver.Chrome(\"C:\\Users\\Kim Jin Hak\\Desktop\\chromedriver.exe\")\n",
    "SiteURL = 'http://www.koreabaseball.com/Schedule/Schedule.aspx'\n",
    "\n",
    "driver.get(SiteURL)\n",
    "html = driver.page_source\n",
    "soup = BeautifulSoup(html, \"lxml\")\n",
    "\n",
    "result = []\n",
    "i=0\n",
    "for year in YearList:\n",
    "    selectYear = Select(driver.find_element_by_id(\"ddlYear\"))\n",
    "    selectYear.select_by_value(year)\n",
    "    time.sleep(sleeptime)\n",
    "    if year=='2010':\n",
    "        MonthList2 = MonthList[:-1]\n",
    "    elif year=='2014' or year=='2015':\n",
    "        MonthList2 = MonthList\n",
    "    else:\n",
    "        MonthList2 = MonthList[1:]\n",
    "    for month in MonthList2:\n",
    "        selectMonth = Select(driver.find_element_by_id(\"ddlMonth\"))\n",
    "        selectMonth.select_by_value(month)\n",
    "        time.sleep(sleeptime)\n",
    "        \n",
    "        driver.find_element_by_xpath(\"//img[contains(@src,'resources/images/emblem/initial_HH.png')]/parent::a\").click()\n",
    "        time.sleep(sleeptime)\n",
    "        \n",
    "        html_r = driver.page_source           \n",
    "        soup_r = BeautifulSoup(html_r, \"lxml\") \n",
    "        \n",
    "        GameTitle = soup_r.find('select', attrs={'id':\"ddlSeries\"})\n",
    "        \n",
    "        table      = soup_r.find('table', attrs={'class':'tbl'})\n",
    "        table_body = table.find('tbody')                             \n",
    "        rows       = table_body.find_all('tr')    \n",
    "            \n",
    "        print year+ month+ GameTitle.find('option', attrs={'value':'0,9'}).find(text=True)\n",
    "        for row in rows:\n",
    "            Day = row.find('td', attrs={'class':\"day\"})\n",
    "            Time = row.find('td', attrs={'class':\"time\"})\n",
    "            Play = row.find('td', attrs={'class':\"play\"}).find_all('span')\n",
    "#            relay = row.find('td', attrs={'class':\"relay\"})\n",
    "            \n",
    "            result.append([])\n",
    "            result[i].append(year + '.' + Day.find(text=True).encode('utf-8'))\n",
    "            result[i].append(Time.find(text=True).encode('utf-8'))\n",
    "            result[i].append([])\n",
    "            for play in Play:\n",
    "                result[i][2].append(play.find(text=True).encode('utf-8'))\n",
    "#            if relay.find(text=True) == '':\n",
    "#                result[i].append(\"우천취소\")\n",
    "#            else:\n",
    "#                result[i].append(relay.find('a').get('href').encode('utf-8'))\n",
    "            i = i+1\n",
    "\n",
    "driver.close()\n",
    "driver.quit()\n",
    "\n",
    "print 'finish'"
   ]
  },
  {
   "cell_type": "code",
   "execution_count": 23,
   "metadata": {
    "collapsed": true
   },
   "outputs": [],
   "source": [
    "f = open('Parsing_TeamData_from_KBO.txt', 'wb')\n",
    "\n",
    "pickle.dump(result, f)\n",
    "\n",
    "f.close()"
   ]
  },
  {
   "cell_type": "code",
   "execution_count": null,
   "metadata": {
    "collapsed": true
   },
   "outputs": [],
   "source": []
  }
 ],
 "metadata": {
  "anaconda-cloud": {},
  "kernelspec": {
   "display_name": "Python [default]",
   "language": "python",
   "name": "python2"
  },
  "language_info": {
   "codemirror_mode": {
    "name": "ipython",
    "version": 2
   },
   "file_extension": ".py",
   "mimetype": "text/x-python",
   "name": "python",
   "nbconvert_exporter": "python",
   "pygments_lexer": "ipython2",
   "version": "2.7.12"
  }
 },
 "nbformat": 4,
 "nbformat_minor": 1
}

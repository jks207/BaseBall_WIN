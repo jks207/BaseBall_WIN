{
 "cells": [
  {
   "cell_type": "code",
   "execution_count": 46,
   "metadata": {
    "collapsed": false
   },
   "outputs": [
    {
     "ename": "ImportError",
     "evalue": "No module named org.openqa.selenium.WebElement",
     "output_type": "error",
     "traceback": [
      "\u001b[0;31m---------------------------------------------------------------------------\u001b[0m",
      "\u001b[0;31mImportError\u001b[0m                               Traceback (most recent call last)",
      "\u001b[0;32m<ipython-input-46-5460e698a1fd>\u001b[0m in \u001b[0;36m<module>\u001b[0;34m()\u001b[0m\n\u001b[1;32m      6\u001b[0m \u001b[1;32mfrom\u001b[0m \u001b[0mselenium\u001b[0m \u001b[1;32mimport\u001b[0m \u001b[0mwebdriver\u001b[0m\u001b[1;33m\u001b[0m\u001b[0m\n\u001b[1;32m      7\u001b[0m \u001b[1;32mfrom\u001b[0m \u001b[0mselenium\u001b[0m\u001b[1;33m.\u001b[0m\u001b[0mwebdriver\u001b[0m\u001b[1;33m.\u001b[0m\u001b[0mcommon\u001b[0m\u001b[1;33m.\u001b[0m\u001b[0mkeys\u001b[0m \u001b[1;32mimport\u001b[0m \u001b[0mKeys\u001b[0m\u001b[1;33m\u001b[0m\u001b[0m\n\u001b[0;32m----> 8\u001b[0;31m \u001b[1;32mimport\u001b[0m \u001b[0morg\u001b[0m\u001b[1;33m.\u001b[0m\u001b[0mopenqa\u001b[0m\u001b[1;33m.\u001b[0m\u001b[0mselenium\u001b[0m\u001b[1;33m.\u001b[0m\u001b[0mWebElement\u001b[0m\u001b[1;33m;\u001b[0m\u001b[1;33m\u001b[0m\u001b[0m\n\u001b[0m\u001b[1;32m      9\u001b[0m \u001b[1;32mfrom\u001b[0m \u001b[0mselenium\u001b[0m\u001b[1;33m.\u001b[0m\u001b[0mwebdriver\u001b[0m\u001b[1;33m.\u001b[0m\u001b[0msupport\u001b[0m\u001b[1;33m.\u001b[0m\u001b[0mui\u001b[0m \u001b[1;32mimport\u001b[0m \u001b[0mSelect\u001b[0m\u001b[1;33m\u001b[0m\u001b[0m\n\u001b[1;32m     10\u001b[0m \u001b[1;32mimport\u001b[0m \u001b[0mtime\u001b[0m\u001b[1;33m\u001b[0m\u001b[0m\n",
      "\u001b[0;31mImportError\u001b[0m: No module named org.openqa.selenium.WebElement"
     ]
    }
   ],
   "source": [
    "#-*- coding: utf-8 -*-\n",
    "#import sys\n",
    "#reload(sys)\n",
    "#sys.setdefaultencoding('utf-8')\n",
    "from selenium.webdriver.common.by import By\n",
    "from selenium import webdriver\n",
    "from selenium.webdriver.common.keys import Keys\n",
    "from selenium.webdriver.support.ui import Select\n",
    "import time"
   ]
  },
  {
   "cell_type": "code",
   "execution_count": 59,
   "metadata": {
    "collapsed": false,
    "scrolled": false
   },
   "outputs": [
    {
     "name": "stdout",
     "output_type": "stream",
     "text": [
      "[<selenium.webdriver.remote.webelement.WebElement (session=\"c1b54f98ca61a19d7156b55dd49391b3\", element=\"0.8453266583429133-2\")>, <selenium.webdriver.remote.webelement.WebElement (session=\"c1b54f98ca61a19d7156b55dd49391b3\", element=\"0.8453266583429133-3\")>, <selenium.webdriver.remote.webelement.WebElement (session=\"c1b54f98ca61a19d7156b55dd49391b3\", element=\"0.8453266583429133-4\")>, <selenium.webdriver.remote.webelement.WebElement (session=\"c1b54f98ca61a19d7156b55dd49391b3\", element=\"0.8453266583429133-5\")>, <selenium.webdriver.remote.webelement.WebElement (session=\"c1b54f98ca61a19d7156b55dd49391b3\", element=\"0.8453266583429133-6\")>, <selenium.webdriver.remote.webelement.WebElement (session=\"c1b54f98ca61a19d7156b55dd49391b3\", element=\"0.8453266583429133-7\")>, <selenium.webdriver.remote.webelement.WebElement (session=\"c1b54f98ca61a19d7156b55dd49391b3\", element=\"0.8453266583429133-8\")>, <selenium.webdriver.remote.webelement.WebElement (session=\"c1b54f98ca61a19d7156b55dd49391b3\", element=\"0.8453266583429133-9\")>, <selenium.webdriver.remote.webelement.WebElement (session=\"c1b54f98ca61a19d7156b55dd49391b3\", element=\"0.8453266583429133-10\")>, <selenium.webdriver.remote.webelement.WebElement (session=\"c1b54f98ca61a19d7156b55dd49391b3\", element=\"0.8453266583429133-11\")>, <selenium.webdriver.remote.webelement.WebElement (session=\"c1b54f98ca61a19d7156b55dd49391b3\", element=\"0.8453266583429133-12\")>, <selenium.webdriver.remote.webelement.WebElement (session=\"c1b54f98ca61a19d7156b55dd49391b3\", element=\"0.8453266583429133-13\")>, <selenium.webdriver.remote.webelement.WebElement (session=\"c1b54f98ca61a19d7156b55dd49391b3\", element=\"0.8453266583429133-14\")>, <selenium.webdriver.remote.webelement.WebElement (session=\"c1b54f98ca61a19d7156b55dd49391b3\", element=\"0.8453266583429133-15\")>, <selenium.webdriver.remote.webelement.WebElement (session=\"c1b54f98ca61a19d7156b55dd49391b3\", element=\"0.8453266583429133-16\")>, <selenium.webdriver.remote.webelement.WebElement (session=\"c1b54f98ca61a19d7156b55dd49391b3\", element=\"0.8453266583429133-17\")>, <selenium.webdriver.remote.webelement.WebElement (session=\"c1b54f98ca61a19d7156b55dd49391b3\", element=\"0.8453266583429133-18\")>, <selenium.webdriver.remote.webelement.WebElement (session=\"c1b54f98ca61a19d7156b55dd49391b3\", element=\"0.8453266583429133-19\")>, <selenium.webdriver.remote.webelement.WebElement (session=\"c1b54f98ca61a19d7156b55dd49391b3\", element=\"0.8453266583429133-20\")>, <selenium.webdriver.remote.webelement.WebElement (session=\"c1b54f98ca61a19d7156b55dd49391b3\", element=\"0.8453266583429133-21\")>, <selenium.webdriver.remote.webelement.WebElement (session=\"c1b54f98ca61a19d7156b55dd49391b3\", element=\"0.8453266583429133-22\")>, <selenium.webdriver.remote.webelement.WebElement (session=\"c1b54f98ca61a19d7156b55dd49391b3\", element=\"0.8453266583429133-23\")>, <selenium.webdriver.remote.webelement.WebElement (session=\"c1b54f98ca61a19d7156b55dd49391b3\", element=\"0.8453266583429133-24\")>, <selenium.webdriver.remote.webelement.WebElement (session=\"c1b54f98ca61a19d7156b55dd49391b3\", element=\"0.8453266583429133-25\")>]\n",
      "[u'1.00', u'1', u'0', u'2', u'9.8', u'14.6', u'0.367', u'0.306', u'0.390', u'0.361', u'0.751', u'0.353', u'1.00', u'1', u'0', u'2', u'9.8', u'14.6', u'0.367', u'0.306', u'0.390', u'0.361', u'0.751', u'0.353']\n"
     ]
    }
   ],
   "source": [
    "## 데이터 파싱 ##\n",
    "\n",
    "##KBReport메인페이지\n",
    "driver = webdriver.Chrome(\"C:\\Users\\Kim Jin Hak\\Desktop\\chromedriver.exe\")\n",
    "url = \"http://www.kbreport.com/main\" \n",
    "driver.get(url)\n",
    "assert \"KBReport : 한국 프로야구 통계 사이트\".decode(\"utf-8\") in driver.title\n",
    "driver.maximize_window() \n",
    "time.sleep(1)\n",
    "\n",
    "##팀기록 접근\n",
    "maintap = driver.find_element(By.CSS_SELECTOR, \"a[href*='/teams']\")\n",
    "clickablemaintap = maintap.find_element(By.CSS_SELECTOR, \"li\")\n",
    "clickablemaintap.click()\n",
    "assert \"팀 타격메인기록 : KBReport\".decode(\"utf-8\") in driver.title\n",
    "\n",
    "##타격기록 접근\n",
    "#hittertap = driver.find_element(By.XPATH, \"//span[@class='ltb1-title'][text()='타격기록']\")\n",
    "hittertaps = driver.find_elements(By.XPATH, '//span[@class=\"ltb1-title\"]')\n",
    "hittertaps[1].click()\n",
    "\n",
    "##옵션 선택\n",
    "selectTeam = Select(driver.find_element(By.NAME, \"teamId\"))\n",
    "selectTeam.select_by_value('8')\n",
    "selectPos = Select(driver.find_element(By.NAME, \"defense_no\"))\n",
    "selectfYear = Select(driver.find_element(By.NAME, \"year_from\"))\n",
    "selectfYear.select_by_value('2012')\n",
    "selecttYear = Select(driver.find_element(By.NAME, \"year_to\"))\n",
    "selecttYear.select_by_value('2016')\n",
    "selectspilt1 = Select(driver.find_element(By.ID, \"split01\"))\n",
    "selectspilt1.select_by_value('day')\n",
    "time.sleep(1)\n",
    "spilt2_1 = driver.find_element(By.ID, \"split02_1_day\")\n",
    "spilt2_1.send_keys('2012-04-07')\n",
    "spilt2_2 = driver.find_element(By.ID, \"split02_2_day\")\n",
    "spilt2_2.send_keys('2012-04-07')\n",
    "submit = driver.find_element(By.XPATH, '//button[@class=\"ltb-button\"][@type=\"button\"]').click()\n",
    "\n",
    "##데이터 가져오기\n",
    "table = driver.find_element(By.CSS_SELECTOR, '.ltb-table.responsive')\n",
    "td = table.find_elements(By.CSS_SELECTOR, 'td:nth-child(n+9):nth-child(-n+20)')\n",
    "\n",
    "driver.quit()"
   ]
  },
  {
   "cell_type": "code",
   "execution_count": 60,
   "metadata": {
    "collapsed": false
   },
   "outputs": [
    {
     "name": "stdout",
     "output_type": "stream",
     "text": [
      "2012-04-07 [u'1.00', u'1', u'0', u'2', u'9.8', u'14.6', u'0.367', u'0.306', u'0.390', u'0.361', u'0.751', u'0.353', u'1.00', u'1', u'0', u'2', u'9.8', u'14.6', u'0.367', u'0.306', u'0.390', u'0.361', u'0.751', u'0.353']\n"
     ]
    }
   ],
   "source": [
    "print '2012-04-07', ([t.text for t in td])"
   ]
  },
  {
   "cell_type": "code",
   "execution_count": null,
   "metadata": {
    "collapsed": true
   },
   "outputs": [],
   "source": []
  }
 ],
 "metadata": {
  "anaconda-cloud": {},
  "kernelspec": {
   "display_name": "Python [conda root]",
   "language": "python",
   "name": "conda-root-py"
  },
  "language_info": {
   "codemirror_mode": {
    "name": "ipython",
    "version": 2
   },
   "file_extension": ".py",
   "mimetype": "text/x-python",
   "name": "python",
   "nbconvert_exporter": "python",
   "pygments_lexer": "ipython2",
   "version": "2.7.12"
  }
 },
 "nbformat": 4,
 "nbformat_minor": 1
}

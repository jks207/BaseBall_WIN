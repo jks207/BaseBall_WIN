{
 "cells": [
  {
   "cell_type": "markdown",
   "metadata": {},
   "source": [
    "# KBReport에서 데이터 가져오기\n",
    "http://www.kbreport.com/teams/main\n",
    "\n",
    "* http://www.kbreport.com/teams/main \n",
    "    * ##팀기록 메인화면\n",
    "* ?rows=20&order=TPCT&orderType=DESC    \n",
    "* &teamId=8                             \n",
    "    * ##한화의 팀 아이디=8\n",
    "* &defense_no=                          \n",
    "    * ##포지션 선택\n",
    "* &year_from=2012                       \n",
    "    * ##시작년도\n",
    "* &year_to=2016                         \n",
    "    * ##종료년도\n",
    "* &split01=day                          \n",
    "    * ##첫번째 분류\n",
    "* &split02_1=2012-03-01                 \n",
    "    * ##두번째 분류(날짜선택)\n",
    "* &split02_2=2012-03-01"
   ]
  },
  {
   "cell_type": "code",
   "execution_count": 1,
   "metadata": {
    "collapsed": true
   },
   "outputs": [],
   "source": [
    "#-*- coding: utf-8 -*-\n",
    "#import sys\n",
    "#reload(sys)\n",
    "#sys.setdefaultencoding('utf-8')\n",
    "import urllib\n",
    "from bs4 import BeautifulSoup\n",
    "from selenium import webdriver\n",
    "from selenium.webdriver.support.ui import Select\n",
    "import time\n",
    "import json\n",
    "import numpy as np\n",
    "import pickle\n",
    "import copy"
   ]
  },
  {
   "cell_type": "code",
   "execution_count": 2,
   "metadata": {
    "collapsed": false
   },
   "outputs": [],
   "source": [
    "f = open('Data_HanHwa_GameDate_from_KBO.txt', 'rb')\n",
    "\n",
    "DateList = pickle.load(f)\n",
    "\n",
    "f.close()"
   ]
  },
  {
   "cell_type": "code",
   "execution_count": 3,
   "metadata": {
    "collapsed": false
   },
   "outputs": [],
   "source": [
    "DateList12_4 = DateList[266:283]\n",
    "DateList12_5 = DateList[283:310]\n",
    "DateList12_6 = DateList[310:334]\n",
    "DateList12_7 = DateList[334:352]\n",
    "DateList12_8 = DateList[352:373]\n",
    "DateList12_9 = DateList[373:395]\n",
    "DateList12_10 = DateList[395:398]"
   ]
  },
  {
   "cell_type": "code",
   "execution_count": 9,
   "metadata": {
    "collapsed": false
   },
   "outputs": [
    {
     "name": "stdout",
     "output_type": "stream",
     "text": [
      "['2012-05-01', '2012-05-02', '2012-05-03', '2012-05-04', '2012-05-05', '2012-05-06', '2012-05-08', '2012-05-09', '2012-05-10', '2012-05-11', '2012-05-12', '2012-05-13', '2012-05-15', '2012-05-16', '2012-05-17', '2012-05-18', '2012-05-19', '2012-05-20', '2012-05-22', '2012-05-23', '2012-05-24', '2012-05-25', '2012-05-26', '2012-05-27', '2012-05-29', '2012-05-30', '2012-05-31']\n"
     ]
    }
   ],
   "source": [
    "print DateList12_5"
   ]
  },
  {
   "cell_type": "code",
   "execution_count": 10,
   "metadata": {
    "collapsed": false
   },
   "outputs": [],
   "source": [
    "## 필요 리스트 ##\n",
    "\n",
    "##YearList = ['2012', '2013', '2014', '2015', '2016']\n",
    "##MonthList= ['03', '04', '05', '06', '07', '08', '09', '10']\n",
    "##Days = 31\n",
    "##Team = 'HH'\n",
    "sleeptime = 5\n",
    "retry = 5\n",
    "\n",
    "##테스트용\n",
    "YearList = ['2012']\n",
    "MonthList= ['04']\n",
    "Days = 31"
   ]
  },
  {
   "cell_type": "code",
   "execution_count": null,
   "metadata": {
    "collapsed": false,
    "scrolled": false
   },
   "outputs": [
    {
     "name": "stdout",
     "output_type": "stream",
     "text": [
      "2012-05-01 당시 tr 찾기 시도\n",
      "tr 찾기 성공\n",
      "2012-05-02 당시 tr 찾기 시도\n",
      "tr 찾기 성공\n"
     ]
    }
   ],
   "source": [
    "## 데이터 파싱 ##\n",
    "\n",
    "driver = webdriver.Chrome(\"C:\\Users\\Kim Jin Hak\\Desktop\\chromedriver.exe\")\n",
    "SiteURL = 'http://www.kbreport.com/teams/main?rows=20&order=TPCT&orderType=DESC&teamId=8&defense_no=&year_from=2012&year_to=2016&split01=day&split02_1=' \n",
    "\n",
    "i = 0\n",
    "result = []\n",
    "for date in DateList12_5:\n",
    "    url = SiteURL + date + '&split02_2=' + date\n",
    "            \n",
    "    driver.get(url)\n",
    "    html = driver.page_source\n",
    "    soup = BeautifulSoup(html, \"lxml\")\n",
    "    time.sleep(sleeptime)\n",
    "            \n",
    "    for re1 in range(retry):\n",
    "        try:\n",
    "#            print \"%s-%s-%d 당시 table 찾기 시도\" % (year, month, day+1)\n",
    "            table = soup.find('table', attrs={'class':'ltb-table responsive'})\n",
    "        except NameError as eN:\n",
    "#            print eN, \"%d회 시도: table 찾기 실패\" % (re1+1)\n",
    "            time.sleep(sleeptime)\n",
    "            pass\n",
    "        else:\n",
    "#            print \"table 찾기 성공\"\n",
    "            for re2 in range(retry): \n",
    "                try:\n",
    "#                    print \"%s-%s-%d 당시 tbody 찾기 시도\" % (year, month, day+1)\n",
    "                    table_body = table.find('tbody')\n",
    "                except AttributeError as eA:\n",
    "#                    print eA, \"%d회 시도: tbody 찾기 실패\" % (re2+1)\n",
    "                    time.sleep(sleeptime)\n",
    "                    pass\n",
    "                else:\n",
    "#                    print \"tbody 찾기 성공\"\n",
    "                    rows = table_body.find_all('tr')\n",
    "                    try:\n",
    "                        print \"%s 당시 tr 찾기 시도\" % (date)\n",
    "                        row = rows[1].find_all(text=True)\n",
    "                    except IndexError as eI:\n",
    "                        print eI, \"tr 찾기 실패\"\n",
    "                        result.append([])\n",
    "                        result[i].append(date)\n",
    "                        i = i+1\n",
    "                        pass\n",
    "                    else:\n",
    "                        print \"tr 찾기 성공\"\n",
    "                        result.append([])\n",
    "                        result[i] = row\n",
    "                        result[i][0] = date\n",
    "                        i = i+1\n",
    "                    break\n",
    "            break\n",
    "            \n",
    "driver.close()\n",
    "driver.quit()\n",
    "\n",
    "print \"finish\""
   ]
  },
  {
   "cell_type": "code",
   "execution_count": null,
   "metadata": {
    "collapsed": true
   },
   "outputs": [],
   "source": [
    "## KBReport에서 제대로 파싱이 되었는지 확인 ##\n",
    "\n",
    "print len(DateList12_5)\n",
    "print len(result)\n",
    "\n",
    "resultdate = []\n",
    "for i in result:\n",
    "    resultdate.append(i[0])\n",
    "    \n",
    "for i in DateList12_5:\n",
    "    if i not in resultdate:\n",
    "        print i"
   ]
  },
  {
   "cell_type": "code",
   "execution_count": 92,
   "metadata": {
    "collapsed": false
   },
   "outputs": [],
   "source": [
    "filename = 'Parsing_TeamData_from_KBReport' + '12_05' + '.txt'\n",
    "f = open(filename, 'wb')\n",
    "\n",
    "pickle.dump(result, f)\n",
    "\n",
    "f.close()"
   ]
  },
  {
   "cell_type": "code",
   "execution_count": null,
   "metadata": {
    "collapsed": true
   },
   "outputs": [],
   "source": []
  }
 ],
 "metadata": {
  "anaconda-cloud": {},
  "kernelspec": {
   "display_name": "Python [conda root]",
   "language": "python",
   "name": "conda-root-py"
  },
  "language_info": {
   "codemirror_mode": {
    "name": "ipython",
    "version": 2
   },
   "file_extension": ".py",
   "mimetype": "text/x-python",
   "name": "python",
   "nbconvert_exporter": "python",
   "pygments_lexer": "ipython2",
   "version": "2.7.12"
  }
 },
 "nbformat": 4,
 "nbformat_minor": 1
}
